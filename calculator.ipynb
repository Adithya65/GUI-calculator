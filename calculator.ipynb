{
 "cells": [
  {
   "cell_type": "code",
   "execution_count": 139,
   "metadata": {},
   "outputs": [],
   "source": [
    "import tkinter\n",
    "from tkinter import *\n",
    "window=Tk(\"red\")\n",
    "e=Entry(window)\n",
    "e.grid(row=0,column=0,columnspan=3,padx=10,pady=10)\n",
    "num=\"\"\n",
    "def button_click(number):\n",
    "    num=e.get()\n",
    "    e.delete(0,END)\n",
    "    num=num+str(number)\n",
    "    e.insert(0,num)\n",
    "    \n",
    "def button_add():\n",
    "    value1=e.get()\n",
    "    e.delete(0,END)\n",
    "    global fnum\n",
    "    fnum=int(value1)\n",
    "    return(value1)\n",
    "    \n",
    "    \n",
    "def button_equal():\n",
    "    value2=e.get()\n",
    "    e.delete(0,END)\n",
    "    e.insert(0,(int(value2)+fnum))\n",
    "    \n",
    "def button_clear():\n",
    "    e.delete(0,END)\n",
    "\n",
    "   \n",
    "\n",
    "button_1=Button(window,text='1',command=lambda:button_click(1),bg=\"blue\",activebackground=\"green\",padx=40,pady=20)\n",
    "button_2=Button(window,text='2',command=lambda:button_click(2),bg=\"blue\",activebackground=\"green\",padx=40,pady=20)\n",
    "button_3=Button(window,text='3',command=lambda:button_click(3),bg=\"blue\",activebackground=\"green\",padx=40,pady=20)\n",
    "button_4=Button(window,text='4',command=lambda:button_click(4),bg=\"blue\",activebackground=\"green\",padx=40,pady=20)\n",
    "button_5=Button(window,text='5',command=lambda:button_click(5),bg=\"blue\",activebackground=\"green\",padx=40,pady=20)\n",
    "button_6=Button(window,text='6',command=lambda:button_click(6),bg=\"blue\",activebackground=\"green\",padx=40,pady=20)\n",
    "button_7=Button(window,text='7',command=lambda:button_click(7),bg=\"blue\",activebackground=\"green\",padx=40,pady=20)\n",
    "button_8=Button(window,text='8',command=lambda:button_click(8),bg=\"blue\",activebackground=\"green\",padx=40,pady=20)\n",
    "button_9=Button(window,text='9',command=lambda:button_click(9),bg=\"blue\",activebackground=\"green\",padx=40,pady=20)\n",
    "button_0=Button(window,text='0',command=lambda:button_click(0),bg=\"blue\",activebackground=\"green\",padx=40,pady=20)\n",
    "button_add=Button(window,text='+',command=button_add,bg=\"blue\",activebackground=\"green\",padx=40,pady=20)\n",
    "button_equal=Button(window,text='=',command=button_equal,bg=\"blue\",activebackground=\"green\",padx=86,pady=20)\n",
    "button_clear=Button(window,text='clear',command=button_clear,bg=\"blue\",activebackground=\"green\",padx=78.75,pady=20)\n",
    "\n",
    "button_1.grid(row=3,column=0)\n",
    "button_2.grid(row=3,column=1)\n",
    "button_3.grid(row=3,column=2)\n",
    "\n",
    "button_4.grid(row=2,column=0)\n",
    "button_5.grid(row=2,column=1)\n",
    "button_6.grid(row=2,column=2)\n",
    "\n",
    "button_7.grid(row=1,column=0)\n",
    "button_8.grid(row=1,column=1)\n",
    "button_9.grid(row=1,column=2)\n",
    "\n",
    "button_0.grid(row=4,column=0)\n",
    "button_add.grid(row=5,column=0)\n",
    "button_equal.grid(row=5,column=1,columnspan=2)\n",
    "button_clear.grid(row=4,column=1,columnspan=2)\n",
    "\n",
    "\n",
    "\n",
    "window.mainloop()"
   ]
  },
  {
   "cell_type": "code",
   "execution_count": 124,
   "metadata": {},
   "outputs": [
    {
     "ename": "NameError",
     "evalue": "name 'value1' is not defined",
     "output_type": "error",
     "traceback": [
      "\u001b[1;31m---------------------------------------------------------------------------\u001b[0m",
      "\u001b[1;31mNameError\u001b[0m                                 Traceback (most recent call last)",
      "\u001b[1;32m<ipython-input-124-23d0fd66bac0>\u001b[0m in \u001b[0;36m<module>\u001b[1;34m\u001b[0m\n\u001b[1;32m----> 1\u001b[1;33m \u001b[0mvalue1\u001b[0m\u001b[1;33m\u001b[0m\u001b[1;33m\u001b[0m\u001b[0m\n\u001b[0m",
      "\u001b[1;31mNameError\u001b[0m: name 'value1' is not defined"
     ]
    }
   ],
   "source": [
    "value1"
   ]
  },
  {
   "cell_type": "code",
   "execution_count": null,
   "metadata": {},
   "outputs": [],
   "source": []
  }
 ],
 "metadata": {
  "kernelspec": {
   "display_name": "Python 3",
   "language": "python",
   "name": "python3"
  },
  "language_info": {
   "codemirror_mode": {
    "name": "ipython",
    "version": 3
   },
   "file_extension": ".py",
   "mimetype": "text/x-python",
   "name": "python",
   "nbconvert_exporter": "python",
   "pygments_lexer": "ipython3",
   "version": "3.7.7"
  }
 },
 "nbformat": 4,
 "nbformat_minor": 4
}
